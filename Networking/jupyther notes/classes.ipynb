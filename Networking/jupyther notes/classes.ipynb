{
 "cells": [
  {
   "cell_type": "markdown",
   "id": "5ebaca9d",
   "metadata": {},
   "source": [
    "# Python Class/Object\n",
    "\n",
    "## Initialize Function\n",
    "\n",
    "in every class there is `__init__` function, that runs as we intialize the instance of the class. `self` represent the instance of the class, in our case, self is the bmw. "
   ]
  },
  {
   "cell_type": "code",
   "execution_count": 31,
   "id": "e812eeb8",
   "metadata": {},
   "outputs": [
    {
     "name": "stdout",
     "output_type": "stream",
     "text": [
      "John Smith BMW X2\n"
     ]
    }
   ],
   "source": [
    "class Car:\n",
    "    def __init__(self, owner, mark, model):\n",
    "        self.owner = owner\n",
    "        self.mark = mark\n",
    "        self.model = model\n",
    "    \n",
    "    def full_details(self):\n",
    "        return '{} {} {}'.format(self.owner, self.mark, self.model)\n",
    "\n",
    "bmw = Car(\"John Smith\", \"BMW\", \"X2\")\n",
    "print(bmw.full_details())\n"
   ]
  },
  {
   "cell_type": "markdown",
   "id": "5d2ade9c",
   "metadata": {},
   "source": [
    "## Class Variables\n",
    "\n",
    "If the variable is defined in the class under class name, it is shared between all instances of the class.\n",
    "The class variables are accessable with the name of the class followed by the variable itself. for instance: `Employee.num_of_emps`"
   ]
  },
  {
   "cell_type": "code",
   "execution_count": 32,
   "id": "f121410e",
   "metadata": {},
   "outputs": [
    {
     "name": "stdout",
     "output_type": "stream",
     "text": [
      "0\n",
      "2\n"
     ]
    }
   ],
   "source": [
    "class Employee:\n",
    "    num_of_emps = 0\n",
    "    raise_amount = 1.04\n",
    "    def __init__(self, first, last, pay):\n",
    "        self.first = first\n",
    "        self.last = last\n",
    "        self.pay = pay\n",
    "        Employee.num_of_emps += 1\n",
    "\n",
    "    def apply_raise(self):\n",
    "        self.pay = int(self.pay * self.raise_amount)\n",
    "\n",
    "    def full_details(self):\n",
    "        return '{} {} {}'.format(self.first, self.last, self.pay)\n",
    "\n",
    "    \n",
    "print(Employee.num_of_emps)\n",
    "\n",
    "emp_1 = Employee(\"John\", \"Smith\", 50000)\n",
    "emp_2 = Employee(\"Sara\", \"Smith\", 60000)\n",
    "\n",
    "print(Employee.num_of_emps)"
   ]
  },
  {
   "cell_type": "markdown",
   "id": "f789ebb3",
   "metadata": {},
   "source": [
    "If you wanna change the class variable for only one instance of the class you can use the `self`.\n",
    "\n",
    "`self.raise_amount`"
   ]
  },
  {
   "cell_type": "code",
   "execution_count": 33,
   "id": "699177f8",
   "metadata": {},
   "outputs": [
    {
     "name": "stdout",
     "output_type": "stream",
     "text": [
      "73500\n"
     ]
    }
   ],
   "source": [
    "emp_3 = Employee(\"Alex\", \"Smith\", 70000)\n",
    "emp_3.raise_amount = 1.05\n",
    "emp_3.apply_raise()\n",
    "\n",
    "print(emp_3.pay)\n",
    "\n"
   ]
  },
  {
   "cell_type": "markdown",
   "id": "17503957",
   "metadata": {},
   "source": [
    "## Class Methods \n",
    "\n",
    "In class methodes we can't use the name \"class\" cause it has a meaning in python, it might be missused as class in python, instead we use the word \"cls\" for instance.\n",
    "\n",
    "\n",
    "## Static Methods\n",
    "\n",
    "A static methode ist bound to a class rather than the object of that class. \n",
    "* Static methods have a very clear use-case. When we need some functionality not w.r.t an Object but w.r.t the complete class, we make a method static\n"
   ]
  },
  {
   "cell_type": "code",
   "execution_count": 34,
   "id": "21a0987f",
   "metadata": {},
   "outputs": [
    {
     "name": "stdout",
     "output_type": "stream",
     "text": [
      "2\n",
      "True\n"
     ]
    }
   ],
   "source": [
    "class Person:\n",
    "    num_of_persons = 0\n",
    "\n",
    "    def __init__(self, first,last, age):\n",
    "        self.first = first\n",
    "        self.last = last\n",
    "        self.age = age\n",
    "        Person.num_of_persons += 1\n",
    "\n",
    "    @classmethod\n",
    "    def from_string(cls, str):\n",
    "        first, last, age = str.split(\",\")\n",
    "        return cls(first, last, age)\n",
    "\n",
    "    @staticmethod\n",
    "    def is_adult(age):\n",
    "        return age > 18\n",
    "    \n",
    "\n",
    "p1 = Person(\"Alex\", \"Smith\", 36)\n",
    "p2 = Person.from_string(\"John, Doe, 35\")\n",
    "\n",
    "print(Person.num_of_persons)\n",
    "\n",
    "print(Person.is_adult(20))"
   ]
  },
  {
   "cell_type": "markdown",
   "id": "20bfc71f",
   "metadata": {},
   "source": [
    "## Inheritance - Creating subclasses\n",
    "\n",
    "when inheriting methods and variables from other classes, it will first search in the first class, if there is no element there, then it will get the data from the second class. for more info check  `help`"
   ]
  },
  {
   "cell_type": "markdown",
   "id": "b1d7384c",
   "metadata": {},
   "source": [
    "> **Use `help` method to get all the details and available methods for that class or object or ...**\n",
    "\n",
    "for adding a new variable to the subclass, we can just let the main class handle the initials by add the following.\n",
    "\n",
    "`super().__init__(self, ...)`\n",
    "\n",
    "then add the extra variables that you need."
   ]
  },
  {
   "cell_type": "code",
   "execution_count": 42,
   "id": "30b4945b",
   "metadata": {},
   "outputs": [
    {
     "name": "stdout",
     "output_type": "stream",
     "text": [
      "John Smith 50000 Python\n",
      "50000\n",
      "55000\n"
     ]
    }
   ],
   "source": [
    "class Developer(Employee):\n",
    "    raise_amount = 1.10\n",
    "    def __init__(self, first, last, pay, prog_lang):\n",
    "        super().__init__(first, last, pay)\n",
    "        self.prog_lang = prog_lang\n",
    "\n",
    "    def full_details(self):\n",
    "        return '{} {} {} {}'.format(self.first, self.last, self.pay, self.prog_lang)\n",
    "\n",
    "dev_1 = Developer(\"John\", \"Smith\", 50000, \"Python\")\n",
    "dev_2 = Developer(\"Sara\", \"Smith\", 60000, \"C++\")\n",
    "print(dev_1.full_details())\n",
    "\n",
    "print(dev_1.pay)\n",
    "\n",
    "dev_1.apply_raise()\n",
    "print(dev_1.pay)\n",
    "\n",
    "\n",
    "# HELP Method\n",
    "# print(help(Developer))"
   ]
  },
  {
   "cell_type": "markdown",
   "id": "38d047d1",
   "metadata": {},
   "source": [
    "### Let's try another example:\n"
   ]
  },
  {
   "cell_type": "code",
   "execution_count": 45,
   "id": "5cdff59d",
   "metadata": {},
   "outputs": [
    {
     "name": "stdout",
     "output_type": "stream",
     "text": [
      "--> John Smith 55000 Python\n",
      "--> Sara Smith 60000 C++\n",
      ".....\n",
      "--> Sara Smith 60000 C++\n"
     ]
    }
   ],
   "source": [
    "class Manager(Employee):\n",
    "    def __init__(self, first, last, pay, employees=None):\n",
    "        super().__init__(first, last, pay)\n",
    "        if employees is None:\n",
    "            self.employees = []\n",
    "        else:\n",
    "            self.employees = employees\n",
    "\n",
    "    def add_emp(self, emp):\n",
    "        if emp not in self.employees:\n",
    "            self.employees.append(emp)\n",
    "\n",
    "    def remove_emp(self, emp):\n",
    "        if emp in self.employees:\n",
    "            self.employees.remove(emp)\n",
    "\n",
    "    def print_emps(self):\n",
    "        for emp in self.employees:\n",
    "            print(\"-->\", emp.full_details())\n",
    "\n",
    "mgr_1 = Manager(\"Sue\", \"Smith\", 90000, [dev_1])\n",
    "mgr_1.add_emp(dev_2)\n",
    "mgr_1.print_emps()\n",
    "print(\".....\")\n",
    "mgr_1.remove_emp(dev_1)\n",
    "mgr_1.print_emps()"
   ]
  },
  {
   "cell_type": "markdown",
   "id": "a1737684",
   "metadata": {},
   "source": [
    "> for checking if a person is an instance of a class or a class a subclass of another class check with `isinstance` and`issubclass` methods"
   ]
  },
  {
   "cell_type": "code",
   "execution_count": 50,
   "id": "a8fb8093",
   "metadata": {},
   "outputs": [
    {
     "name": "stdout",
     "output_type": "stream",
     "text": [
      "True\n",
      "True\n"
     ]
    }
   ],
   "source": [
    "print(issubclass(Manager, Employee))\n",
    "print(isinstance(dev_1, Developer))"
   ]
  },
  {
   "cell_type": "markdown",
   "id": "94e08bc7",
   "metadata": {},
   "source": [
    "## Property Decorators\n",
    "\n",
    "\n",
    "> Getter\n",
    "\n",
    "with `@property` method you can access a method as an attribute.  \n",
    "\n",
    "\n",
    "> Setter\n",
    "\n",
    "with `@methodname.setter` you can set a new data to a variable\n",
    "\n",
    "> Deleter\n",
    "\n",
    "\n"
   ]
  },
  {
   "cell_type": "code",
   "execution_count": null,
   "id": "0e656dda",
   "metadata": {},
   "outputs": [
    {
     "name": "stdout",
     "output_type": "stream",
     "text": [
      "Sara Bates\n",
      "Sara.Bates@company.com\n"
     ]
    }
   ],
   "source": [
    "class Duty:\n",
    "    def __init__(self, first, last, pay):\n",
    "        self.first = first\n",
    "        self.last = last\n",
    "        # self.email = first + \".\" + last + \"@company.com\"\n",
    "        self.pay = pay\n",
    "\n",
    "    @property\n",
    "    def email(self):\n",
    "        return '{}.{}@company.com'.format(self.first, self.last)\n",
    "\n",
    "\n",
    "    def fullname(self):\n",
    "        return '{} {}'.format(self.first, self.last)\n",
    "    \n",
    "    # Todo before we can set the fullname.setter method we need to create a fullname property\n",
    "    @property\n",
    "    def fullname(self):\n",
    "        return '{} {}'.format(self.first, self.last)\n",
    "    \n",
    "    @fullname.setter\n",
    "    def fullname(self, name):\n",
    "        first, last = name.split(\" \")\n",
    "        self.first = first\n",
    "        self.last = last\n",
    "\n",
    "    @fullname.deleter\n",
    "    def fullname(self):\n",
    "        print(\"Delete Name\")\n",
    "        self.first = None\n",
    "        self.last = None\n",
    "\n",
    "    \n",
    "    \n",
    "        \n",
    "\n",
    "duty_1 = Duty(\"John\", \"Smith\", 50000)\n",
    "\n",
    "duty_1.fullname = \"Sara Bates\"\n",
    "\n",
    "# duty_1.first = \"Alex\"\n",
    "\n",
    "print\n",
    "print(duty_1.fullname)\n",
    "print(duty_1.email)"
   ]
  },
  {
   "cell_type": "code",
   "execution_count": null,
   "id": "5ac00741",
   "metadata": {},
   "outputs": [],
   "source": []
  }
 ],
 "metadata": {
  "kernelspec": {
   "display_name": ".venv",
   "language": "python",
   "name": "python3"
  },
  "language_info": {
   "codemirror_mode": {
    "name": "ipython",
    "version": 3
   },
   "file_extension": ".py",
   "mimetype": "text/x-python",
   "name": "python",
   "nbconvert_exporter": "python",
   "pygments_lexer": "ipython3",
   "version": "3.12.10"
  }
 },
 "nbformat": 4,
 "nbformat_minor": 5
}
